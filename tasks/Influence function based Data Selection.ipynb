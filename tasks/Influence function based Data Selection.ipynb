{
 "cells": [
  {
   "cell_type": "markdown",
   "metadata": {
    "id": "oULIVJsr5w_Q"
   },
   "source": [
    "## Imports and Preparations"
   ]
  },
  {
   "cell_type": "code",
   "execution_count": null,
   "metadata": {
    "id": "6NhlM-BcL-9Y"
   },
   "outputs": [],
   "source": [
    "%%capture\n",
    "!pip install datasets"
   ]
  },
  {
   "cell_type": "code",
   "execution_count": null,
   "metadata": {
    "colab": {
     "base_uri": "https://localhost:8080/"
    },
    "id": "ficNYvah4UC5",
    "outputId": "467aa013-48ae-4a21-b5d2-40aa583ff5aa"
   },
   "outputs": [
    {
     "name": "stdout",
     "output_type": "stream",
     "text": [
      "Drive already mounted at /content/drive; to attempt to forcibly remount, call drive.mount(\"/content/drive\", force_remount=True).\n"
     ]
    }
   ],
   "source": [
    "from google.colab import drive\n",
    "drive.mount('/content/drive')"
   ]
  },
  {
   "cell_type": "code",
   "execution_count": null,
   "metadata": {
    "id": "FTgNI2nUCZ-s"
   },
   "outputs": [],
   "source": [
    "import torch\n",
    "import torch.nn as nn\n",
    "import torch.optim as optim\n",
    "import numpy as np\n",
    "import pandas as pd\n",
    "from transformers import AutoModel, AutoTokenizer, Trainer, TrainingArguments, DataCollatorForLanguageModeling\n",
    "from sklearn.model_selection import train_test_split\n",
    "from sklearn.metrics import mean_squared_error, r2_score\n",
    "from torch.utils.data import DataLoader\n",
    "from tqdm import tqdm\n",
    "from datasets import Dataset\n",
    "from datasets import load_dataset\n",
    "import matplotlib.pyplot as plt\n",
    "import os\n",
    "from sklearn.metrics import r2_score\n",
    "import csv"
   ]
  },
  {
   "cell_type": "markdown",
   "metadata": {
    "id": "QfT5_Wja4E3V"
   },
   "source": [
    "\n",
    "\n",
    "### Part 1\n",
    "\n"
   ]
  },
  {
   "cell_type": "markdown",
   "metadata": {
    "id": "H2L_U4zs5kRU"
   },
   "source": [
    "## Initialization of models / datasets"
   ]
  },
  {
   "cell_type": "code",
   "execution_count": null,
   "metadata": {
    "id": "UmHf_tCoCZ2R"
   },
   "outputs": [],
   "source": [
    "DATASET_PATH = \"scikit-fingerprints/MoleculeNet_Lipophilicity\"\n",
    "MODEL_NAME = \"ibm/MoLFormer-XL-both-10pct\"\n",
    "EXTERNAL_DATA_PATH = \"External-Dataset_for_Task2.csv\"#task to the external dataset (change accordingly)"
   ]
  },
  {
   "cell_type": "code",
   "execution_count": null,
   "metadata": {
    "colab": {
     "base_uri": "https://localhost:8080/"
    },
    "id": "neE28j655CgT",
    "outputId": "478788f5-5195-45f5-ef4b-6618a895d051"
   },
   "outputs": [
    {
     "name": "stderr",
     "output_type": "stream",
     "text": [
      "/usr/local/lib/python3.11/dist-packages/huggingface_hub/utils/_auth.py:94: UserWarning: \n",
      "The secret `HF_TOKEN` does not exist in your Colab secrets.\n",
      "To authenticate with the Hugging Face Hub, create a token in your settings tab (https://huggingface.co/settings/tokens), set it as secret in your Google Colab and restart your session.\n",
      "You will be able to reuse this secret in all of your notebooks.\n",
      "Please note that authentication is recommended but still optional to access public models or datasets.\n",
      "  warnings.warn(\n"
     ]
    }
   ],
   "source": [
    "ext_data = pd.read_csv(EXTERNAL_DATA_PATH)\n",
    "tokenizer = AutoTokenizer.from_pretrained(MODEL_NAME, trust_remote_code=True)"
   ]
  },
  {
   "cell_type": "code",
   "execution_count": null,
   "metadata": {
    "id": "QzQ4UVfVBoGM"
   },
   "outputs": [],
   "source": [
    "# specify model with a regression head\n",
    "class MoLFormerWithRegressionHead(nn.Module):\n",
    "    def __init__(self, model):\n",
    "        super(MoLFormerWithRegressionHead, self).__init__()\n",
    "        self.model = model\n",
    "        self.dropout = nn.Dropout(0.2)\n",
    "        self.regression_head = nn.Linear(model.config.hidden_size, 1)\n",
    "\n",
    "    def forward(self, inputs, attention_mask):\n",
    "        output = self.model(inputs, attention_mask)\n",
    "        pooled_output = output.last_hidden_state[:, 0, :]\n",
    "        pooled_output = self.dropout(pooled_output)\n",
    "        return self.regression_head(pooled_output)\n"
   ]
  },
  {
   "cell_type": "code",
   "execution_count": null,
   "metadata": {
    "colab": {
     "base_uri": "https://localhost:8080/"
    },
    "id": "C-c5XbyowtA-",
    "outputId": "3ce9890f-ebd1-438a-c779-1bd7ba0b8b2b"
   },
   "outputs": [
    {
     "name": "stderr",
     "output_type": "stream",
     "text": [
      "<ipython-input-7-d850e40533c9>:5: FutureWarning: You are using `torch.load` with `weights_only=False` (the current default value), which uses the default pickle module implicitly. It is possible to construct malicious pickle data which will execute arbitrary code during unpickling (See https://github.com/pytorch/pytorch/blob/main/SECURITY.md#untrusted-models for more details). In a future release, the default value for `weights_only` will be flipped to `True`. This limits the functions that could be executed during unpickling. Arbitrary objects will no longer be allowed to be loaded via this mode unless they are explicitly allowlisted by the user via `torch.serialization.add_safe_globals`. We recommend you start setting `weights_only=True` for any use case where you don't have full control of the loaded file. Please open an issue on GitHub for any issues related to this experimental feature.\n",
      "  regression_model.load_state_dict(torch.load(\"/content/drive/MyDrive/nnti/model_epoch_regression_finetune_5.pth\"), strict=False)\n"
     ]
    },
    {
     "data": {
      "text/plain": [
       "MoLFormerWithRegressionHead(\n",
       "  (model): MolformerModel(\n",
       "    (embeddings): MolformerEmbeddings(\n",
       "      (word_embeddings): Embedding(2362, 768, padding_idx=2)\n",
       "      (dropout): Dropout(p=0.2, inplace=False)\n",
       "    )\n",
       "    (encoder): MolformerEncoder(\n",
       "      (layer): ModuleList(\n",
       "        (0-11): 12 x MolformerLayer(\n",
       "          (attention): MolformerAttention(\n",
       "            (self): MolformerSelfAttention(\n",
       "              (query): Linear(in_features=768, out_features=768, bias=True)\n",
       "              (key): Linear(in_features=768, out_features=768, bias=True)\n",
       "              (value): Linear(in_features=768, out_features=768, bias=True)\n",
       "              (rotary_embeddings): MolformerRotaryEmbedding()\n",
       "              (feature_map): MolformerFeatureMap(\n",
       "                (kernel): ReLU()\n",
       "              )\n",
       "            )\n",
       "            (output): MolformerSelfOutput(\n",
       "              (dense): Linear(in_features=768, out_features=768, bias=True)\n",
       "              (LayerNorm): LayerNorm((768,), eps=1e-12, elementwise_affine=True)\n",
       "              (dropout): Dropout(p=0.1, inplace=False)\n",
       "            )\n",
       "          )\n",
       "          (intermediate): MolformerIntermediate(\n",
       "            (dense): Linear(in_features=768, out_features=768, bias=True)\n",
       "            (intermediate_act_fn): GELUActivation()\n",
       "          )\n",
       "          (output): MolformerOutput(\n",
       "            (dense): Linear(in_features=768, out_features=768, bias=True)\n",
       "            (LayerNorm): LayerNorm((768,), eps=1e-12, elementwise_affine=True)\n",
       "            (dropout): Dropout(p=0.1, inplace=False)\n",
       "          )\n",
       "        )\n",
       "      )\n",
       "    )\n",
       "    (LayerNorm): LayerNorm((768,), eps=1e-12, elementwise_affine=True)\n",
       "  )\n",
       "  (dropout): Dropout(p=0.2, inplace=False)\n",
       "  (regression_head): Linear(in_features=768, out_features=1, bias=True)\n",
       ")"
      ]
     },
     "execution_count": 7,
     "metadata": {},
     "output_type": "execute_result"
    }
   ],
   "source": [
    "device = torch.device(\"cuda\" if torch.cuda.is_available() else \"cpu\")\n",
    "# Load the pre-trained model and tokenizer\n",
    "model = AutoModel.from_pretrained(MODEL_NAME, deterministic_eval=True, trust_remote_code=True).to(device)\n",
    "regression_model = MoLFormerWithRegressionHead(model).to(device)\n",
    "regression_model.load_state_dict(torch.load(\"/content/drive/MyDrive/nnti/model_epoch_regression_finetune_5.pth\"), strict=False)# path to the fine tuned pre trained MLM from task 1\n",
    "\n",
    "regression_model"
   ]
  },
  {
   "cell_type": "markdown",
   "metadata": {
    "id": "3YrspcQy2l8D"
   },
   "source": [
    "## Data Preparation"
   ]
  },
  {
   "cell_type": "code",
   "execution_count": null,
   "metadata": {
    "id": "AJMV9iQ4RFG8"
   },
   "outputs": [],
   "source": [
    "def tokenize_smiles(smiles, label):\n",
    "    tokenized = tokenizer(smiles,\n",
    "                          return_tensors=\"pt\",\n",
    "                          padding=True,\n",
    "                          truncation=True,\n",
    "                          max_length=300)\n",
    "    return {\n",
    "        'input_ids': tokenized['input_ids'].squeeze(0),\n",
    "        'attention_mask': tokenized['attention_mask'].squeeze(0),\n",
    "        'target': torch.tensor(label, dtype=torch.float32)\n",
    "    }\n",
    "\n",
    "\n",
    "def load_training_data():\n",
    "    \"\"\"Load the original Lipophilicity training dataset.\"\"\"\n",
    "    train_df = pd.DataFrame(load_dataset(DATASET_PATH)['train'])\n",
    "\n",
    "    return [tokenize_smiles(row['SMILES'], row['label']) for _, row in train_df.iterrows()]\n",
    "\n",
    "# Load training dataset using the updated function\n",
    "train_data = load_training_data()\n"
   ]
  },
  {
   "cell_type": "code",
   "execution_count": null,
   "metadata": {
    "id": "R82vZK2uopDK"
   },
   "outputs": [],
   "source": [
    "#split\n",
    "train_data_split, test_data_split = train_test_split(train_data, test_size=0.2, random_state=42)"
   ]
  },
  {
   "cell_type": "code",
   "execution_count": null,
   "metadata": {
    "colab": {
     "base_uri": "https://localhost:8080/",
     "height": 204
    },
    "id": "AC-b7SZCRkn_",
    "outputId": "817a9414-479f-4496-a765-4c3b0836ac5f"
   },
   "outputs": [
    {
     "data": {
      "application/vnd.google.colaboratory.intrinsic+json": {
       "summary": "{\n  \"name\": \"ext_data\",\n  \"rows\": 300,\n  \"fields\": [\n    {\n      \"column\": \"SMILES\",\n      \"properties\": {\n        \"dtype\": \"string\",\n        \"num_unique_values\": 300,\n        \"samples\": [\n          \"O=C(OCCN1CCOCC1)c1c[nH]c2ccccc21\",\n          \"Cc1nc(C(=O)N2CCC3(CN(C(=O)[C@@H](C)C4CC4)C3)C2)cs1\",\n          \"Cc1[nH]nc(C(=O)N2CC3(C2)CCN(Cc2ccccc2)CC3)c1C\"\n        ],\n        \"semantic_type\": \"\",\n        \"description\": \"\"\n      }\n    },\n    {\n      \"column\": \"Label\",\n      \"properties\": {\n        \"dtype\": \"number\",\n        \"std\": 0.8780759339458092,\n        \"min\": -0.338,\n        \"max\": 4.028,\n        \"num_unique_values\": 224,\n        \"samples\": [\n          1.754,\n          3.134,\n          2.412\n        ],\n        \"semantic_type\": \"\",\n        \"description\": \"\"\n      }\n    }\n  ]\n}",
       "type": "dataframe",
       "variable_name": "ext_data"
      },
      "text/html": [
       "\n",
       "  <div id=\"df-a416d86b-368b-46c1-808c-877fd005cc9e\" class=\"colab-df-container\">\n",
       "    <div>\n",
       "<style scoped>\n",
       "    .dataframe tbody tr th:only-of-type {\n",
       "        vertical-align: middle;\n",
       "    }\n",
       "\n",
       "    .dataframe tbody tr th {\n",
       "        vertical-align: top;\n",
       "    }\n",
       "\n",
       "    .dataframe thead th {\n",
       "        text-align: right;\n",
       "    }\n",
       "</style>\n",
       "<table border=\"1\" class=\"dataframe\">\n",
       "  <thead>\n",
       "    <tr style=\"text-align: right;\">\n",
       "      <th></th>\n",
       "      <th>SMILES</th>\n",
       "      <th>Label</th>\n",
       "    </tr>\n",
       "  </thead>\n",
       "  <tbody>\n",
       "    <tr>\n",
       "      <th>0</th>\n",
       "      <td>CCCCN1Cc2c(nc3cc(-c4ccco4)nn3c2O)C1=O</td>\n",
       "      <td>1.548</td>\n",
       "    </tr>\n",
       "    <tr>\n",
       "      <th>1</th>\n",
       "      <td>Cc1cc(C)c2c(n1)sc1c2ncnc1N1CCN(C)CC1</td>\n",
       "      <td>2.568</td>\n",
       "    </tr>\n",
       "    <tr>\n",
       "      <th>2</th>\n",
       "      <td>COC(=O)[C@H]1[C@H]2CC[C@H](C[C@@H]1OC(=O)c1ccc...</td>\n",
       "      <td>0.102</td>\n",
       "    </tr>\n",
       "    <tr>\n",
       "      <th>3</th>\n",
       "      <td>Nc1nonc1/C(=N/O)Nc1ccc(F)c(Cl)c1</td>\n",
       "      <td>2.450</td>\n",
       "    </tr>\n",
       "    <tr>\n",
       "      <th>4</th>\n",
       "      <td>Cc1c[nH]c(/C=C2/C(=O)Nc3ccccc32)c1CCC(=O)O</td>\n",
       "      <td>1.040</td>\n",
       "    </tr>\n",
       "  </tbody>\n",
       "</table>\n",
       "</div>\n",
       "    <div class=\"colab-df-buttons\">\n",
       "\n",
       "  <div class=\"colab-df-container\">\n",
       "    <button class=\"colab-df-convert\" onclick=\"convertToInteractive('df-a416d86b-368b-46c1-808c-877fd005cc9e')\"\n",
       "            title=\"Convert this dataframe to an interactive table.\"\n",
       "            style=\"display:none;\">\n",
       "\n",
       "  <svg xmlns=\"http://www.w3.org/2000/svg\" height=\"24px\" viewBox=\"0 -960 960 960\">\n",
       "    <path d=\"M120-120v-720h720v720H120Zm60-500h600v-160H180v160Zm220 220h160v-160H400v160Zm0 220h160v-160H400v160ZM180-400h160v-160H180v160Zm440 0h160v-160H620v160ZM180-180h160v-160H180v160Zm440 0h160v-160H620v160Z\"/>\n",
       "  </svg>\n",
       "    </button>\n",
       "\n",
       "  <style>\n",
       "    .colab-df-container {\n",
       "      display:flex;\n",
       "      gap: 12px;\n",
       "    }\n",
       "\n",
       "    .colab-df-convert {\n",
       "      background-color: #E8F0FE;\n",
       "      border: none;\n",
       "      border-radius: 50%;\n",
       "      cursor: pointer;\n",
       "      display: none;\n",
       "      fill: #1967D2;\n",
       "      height: 32px;\n",
       "      padding: 0 0 0 0;\n",
       "      width: 32px;\n",
       "    }\n",
       "\n",
       "    .colab-df-convert:hover {\n",
       "      background-color: #E2EBFA;\n",
       "      box-shadow: 0px 1px 2px rgba(60, 64, 67, 0.3), 0px 1px 3px 1px rgba(60, 64, 67, 0.15);\n",
       "      fill: #174EA6;\n",
       "    }\n",
       "\n",
       "    .colab-df-buttons div {\n",
       "      margin-bottom: 4px;\n",
       "    }\n",
       "\n",
       "    [theme=dark] .colab-df-convert {\n",
       "      background-color: #3B4455;\n",
       "      fill: #D2E3FC;\n",
       "    }\n",
       "\n",
       "    [theme=dark] .colab-df-convert:hover {\n",
       "      background-color: #434B5C;\n",
       "      box-shadow: 0px 1px 3px 1px rgba(0, 0, 0, 0.15);\n",
       "      filter: drop-shadow(0px 1px 2px rgba(0, 0, 0, 0.3));\n",
       "      fill: #FFFFFF;\n",
       "    }\n",
       "  </style>\n",
       "\n",
       "    <script>\n",
       "      const buttonEl =\n",
       "        document.querySelector('#df-a416d86b-368b-46c1-808c-877fd005cc9e button.colab-df-convert');\n",
       "      buttonEl.style.display =\n",
       "        google.colab.kernel.accessAllowed ? 'block' : 'none';\n",
       "\n",
       "      async function convertToInteractive(key) {\n",
       "        const element = document.querySelector('#df-a416d86b-368b-46c1-808c-877fd005cc9e');\n",
       "        const dataTable =\n",
       "          await google.colab.kernel.invokeFunction('convertToInteractive',\n",
       "                                                    [key], {});\n",
       "        if (!dataTable) return;\n",
       "\n",
       "        const docLinkHtml = 'Like what you see? Visit the ' +\n",
       "          '<a target=\"_blank\" href=https://colab.research.google.com/notebooks/data_table.ipynb>data table notebook</a>'\n",
       "          + ' to learn more about interactive tables.';\n",
       "        element.innerHTML = '';\n",
       "        dataTable['output_type'] = 'display_data';\n",
       "        await google.colab.output.renderOutput(dataTable, element);\n",
       "        const docLink = document.createElement('div');\n",
       "        docLink.innerHTML = docLinkHtml;\n",
       "        element.appendChild(docLink);\n",
       "      }\n",
       "    </script>\n",
       "  </div>\n",
       "\n",
       "\n",
       "<div id=\"df-c9de1a81-02eb-42e7-b9ba-e478b4c16eae\">\n",
       "  <button class=\"colab-df-quickchart\" onclick=\"quickchart('df-c9de1a81-02eb-42e7-b9ba-e478b4c16eae')\"\n",
       "            title=\"Suggest charts\"\n",
       "            style=\"display:none;\">\n",
       "\n",
       "<svg xmlns=\"http://www.w3.org/2000/svg\" height=\"24px\"viewBox=\"0 0 24 24\"\n",
       "     width=\"24px\">\n",
       "    <g>\n",
       "        <path d=\"M19 3H5c-1.1 0-2 .9-2 2v14c0 1.1.9 2 2 2h14c1.1 0 2-.9 2-2V5c0-1.1-.9-2-2-2zM9 17H7v-7h2v7zm4 0h-2V7h2v10zm4 0h-2v-4h2v4z\"/>\n",
       "    </g>\n",
       "</svg>\n",
       "  </button>\n",
       "\n",
       "<style>\n",
       "  .colab-df-quickchart {\n",
       "      --bg-color: #E8F0FE;\n",
       "      --fill-color: #1967D2;\n",
       "      --hover-bg-color: #E2EBFA;\n",
       "      --hover-fill-color: #174EA6;\n",
       "      --disabled-fill-color: #AAA;\n",
       "      --disabled-bg-color: #DDD;\n",
       "  }\n",
       "\n",
       "  [theme=dark] .colab-df-quickchart {\n",
       "      --bg-color: #3B4455;\n",
       "      --fill-color: #D2E3FC;\n",
       "      --hover-bg-color: #434B5C;\n",
       "      --hover-fill-color: #FFFFFF;\n",
       "      --disabled-bg-color: #3B4455;\n",
       "      --disabled-fill-color: #666;\n",
       "  }\n",
       "\n",
       "  .colab-df-quickchart {\n",
       "    background-color: var(--bg-color);\n",
       "    border: none;\n",
       "    border-radius: 50%;\n",
       "    cursor: pointer;\n",
       "    display: none;\n",
       "    fill: var(--fill-color);\n",
       "    height: 32px;\n",
       "    padding: 0;\n",
       "    width: 32px;\n",
       "  }\n",
       "\n",
       "  .colab-df-quickchart:hover {\n",
       "    background-color: var(--hover-bg-color);\n",
       "    box-shadow: 0 1px 2px rgba(60, 64, 67, 0.3), 0 1px 3px 1px rgba(60, 64, 67, 0.15);\n",
       "    fill: var(--button-hover-fill-color);\n",
       "  }\n",
       "\n",
       "  .colab-df-quickchart-complete:disabled,\n",
       "  .colab-df-quickchart-complete:disabled:hover {\n",
       "    background-color: var(--disabled-bg-color);\n",
       "    fill: var(--disabled-fill-color);\n",
       "    box-shadow: none;\n",
       "  }\n",
       "\n",
       "  .colab-df-spinner {\n",
       "    border: 2px solid var(--fill-color);\n",
       "    border-color: transparent;\n",
       "    border-bottom-color: var(--fill-color);\n",
       "    animation:\n",
       "      spin 1s steps(1) infinite;\n",
       "  }\n",
       "\n",
       "  @keyframes spin {\n",
       "    0% {\n",
       "      border-color: transparent;\n",
       "      border-bottom-color: var(--fill-color);\n",
       "      border-left-color: var(--fill-color);\n",
       "    }\n",
       "    20% {\n",
       "      border-color: transparent;\n",
       "      border-left-color: var(--fill-color);\n",
       "      border-top-color: var(--fill-color);\n",
       "    }\n",
       "    30% {\n",
       "      border-color: transparent;\n",
       "      border-left-color: var(--fill-color);\n",
       "      border-top-color: var(--fill-color);\n",
       "      border-right-color: var(--fill-color);\n",
       "    }\n",
       "    40% {\n",
       "      border-color: transparent;\n",
       "      border-right-color: var(--fill-color);\n",
       "      border-top-color: var(--fill-color);\n",
       "    }\n",
       "    60% {\n",
       "      border-color: transparent;\n",
       "      border-right-color: var(--fill-color);\n",
       "    }\n",
       "    80% {\n",
       "      border-color: transparent;\n",
       "      border-right-color: var(--fill-color);\n",
       "      border-bottom-color: var(--fill-color);\n",
       "    }\n",
       "    90% {\n",
       "      border-color: transparent;\n",
       "      border-bottom-color: var(--fill-color);\n",
       "    }\n",
       "  }\n",
       "</style>\n",
       "\n",
       "  <script>\n",
       "    async function quickchart(key) {\n",
       "      const quickchartButtonEl =\n",
       "        document.querySelector('#' + key + ' button');\n",
       "      quickchartButtonEl.disabled = true;  // To prevent multiple clicks.\n",
       "      quickchartButtonEl.classList.add('colab-df-spinner');\n",
       "      try {\n",
       "        const charts = await google.colab.kernel.invokeFunction(\n",
       "            'suggestCharts', [key], {});\n",
       "      } catch (error) {\n",
       "        console.error('Error during call to suggestCharts:', error);\n",
       "      }\n",
       "      quickchartButtonEl.classList.remove('colab-df-spinner');\n",
       "      quickchartButtonEl.classList.add('colab-df-quickchart-complete');\n",
       "    }\n",
       "    (() => {\n",
       "      let quickchartButtonEl =\n",
       "        document.querySelector('#df-c9de1a81-02eb-42e7-b9ba-e478b4c16eae button');\n",
       "      quickchartButtonEl.style.display =\n",
       "        google.colab.kernel.accessAllowed ? 'block' : 'none';\n",
       "    })();\n",
       "  </script>\n",
       "</div>\n",
       "\n",
       "    </div>\n",
       "  </div>\n"
      ],
      "text/plain": [
       "                                              SMILES  Label\n",
       "0              CCCCN1Cc2c(nc3cc(-c4ccco4)nn3c2O)C1=O  1.548\n",
       "1               Cc1cc(C)c2c(n1)sc1c2ncnc1N1CCN(C)CC1  2.568\n",
       "2  COC(=O)[C@H]1[C@H]2CC[C@H](C[C@@H]1OC(=O)c1ccc...  0.102\n",
       "3                   Nc1nonc1/C(=N/O)Nc1ccc(F)c(Cl)c1  2.450\n",
       "4         Cc1c[nH]c(/C=C2/C(=O)Nc3ccccc32)c1CCC(=O)O  1.040"
      ]
     },
     "execution_count": 10,
     "metadata": {},
     "output_type": "execute_result"
    }
   ],
   "source": [
    "ext_data.head()"
   ]
  },
  {
   "cell_type": "code",
   "execution_count": null,
   "metadata": {
    "id": "qrJXhJsSvk7t"
   },
   "outputs": [],
   "source": [
    "def prepare_datapoint(train_sample):\n",
    "  tokenized = tokenize_smiles(train_sample['SMILES'], train_sample['Label'])\n",
    "  inputs = {key: val.unsqueeze(0) for key, val in tokenized.items()}\n",
    "  return inputs"
   ]
  },
  {
   "cell_type": "markdown",
   "metadata": {
    "id": "-q4cGwBf5IqP"
   },
   "source": [
    "## Gradient Calculation"
   ]
  },
  {
   "cell_type": "code",
   "execution_count": null,
   "metadata": {
    "id": "vxtnK4SldPBS"
   },
   "outputs": [],
   "source": [
    "regression_model.eval()\n",
    "\n",
    "def compute_gradients(model, train_sample, loss_fn):\n",
    "\n",
    "    model.zero_grad()  # Reseting gradients\n",
    "\n",
    "    input_ids, attention_mask, targets = train_sample['input_ids'].to(device), train_sample['attention_mask'].to(device), train_sample['target'].to(device)\n",
    "    outputs = model(input_ids, attention_mask)\n",
    "\n",
    "    # Calculate MSE loss\n",
    "    loss = loss_fn(outputs, targets)\n",
    "\n",
    "    # Backward pass\n",
    "    loss.backward()\n",
    "\n",
    "    # Collecting gradients\n",
    "    gradients = [param.grad for param in model.parameters()]\n",
    "\n",
    "    return gradients"
   ]
  },
  {
   "cell_type": "markdown",
   "metadata": {
    "id": "MyXS0uCc5Cja"
   },
   "source": [
    "## Lissa Approximation"
   ]
  },
  {
   "cell_type": "code",
   "execution_count": null,
   "metadata": {
    "id": "dj6O6dfCuw7_"
   },
   "outputs": [],
   "source": [
    "def lissa_approximation(model, test_gradient, train_data, loss_fn, dataset, length, iters, damping_factor):\n",
    "    \"\"\"Approximation of inverse Hessian-vector product using LiSSA algorithm.\"\"\"\n",
    "    iHvp = test_gradient\n",
    "    for _ in range(iters):\n",
    "\n",
    "        # Select random indices to reduce bias\n",
    "        random_idx = np.random.randint(length)\n",
    "        train_sample = train_data[random_idx]\n",
    "\n",
    "        # Extract input tensors and labels from train_sample\n",
    "        input_ids = train_sample['input_ids'].unsqueeze(0).to(device)\n",
    "        attention_mask = train_sample['attention_mask'].unsqueeze(0).to(device)\n",
    "        targets = train_sample['target'].unsqueeze(0).to(device)\n",
    "\n",
    "        prepared_input = {\n",
    "            'input_ids': input_ids,\n",
    "            'attention_mask': attention_mask,\n",
    "            'target': targets\n",
    "        }\n",
    "\n",
    "        # Compute gradients on the training value\n",
    "        train_grad = compute_gradients(model, prepared_input, loss_fn)\n",
    "\n",
    "        # Calculate iHvp\n",
    "        iHvp = [t - damping_factor * index for t, index in zip(train_grad, iHvp)]\n",
    "\n",
    "    return iHvp"
   ]
  },
  {
   "cell_type": "markdown",
   "metadata": {
    "id": "QHZwNlEs4frX"
   },
   "source": [
    "## Influence score calculation\n"
   ]
  },
  {
   "cell_type": "code",
   "execution_count": null,
   "metadata": {
    "id": "yYr1bTWdfWh_"
   },
   "outputs": [],
   "source": [
    "def compute_influence_scores(model, tokenizer, external_data, train_data, loss_fn):\n",
    "    influence_scores = []\n",
    "\n",
    "    for _, row in tqdm(external_data.iterrows(), total=len(external_data)):\n",
    "\n",
    "\n",
    "        inputs = prepare_datapoint(row)\n",
    "\n",
    "        # Compute test gradient\n",
    "        test_gradient = compute_gradients(regression_model, inputs, loss_fn)\n",
    "\n",
    "\n",
    "        # Approximate inverse Hessian-vector product\n",
    "        iHvp = lissa_approximation(model, test_gradient, train_data,\n",
    "                                   loss_fn, train_data, len(train_data_split), 100, 0.01)\n",
    "\n",
    "        # # Compute influence score as dot product of test gradient and inverse Hessian Vector Product\n",
    "        influence = 0\n",
    "        for tg, ih in zip(test_gradient, iHvp):\n",
    "            influence += torch.dot(tg.flatten(), ih.flatten()).item()\n",
    "\n",
    "        # #Create influence scores list\n",
    "        influence_scores.append((row['SMILES'], row['Label'], influence))\n",
    "\n",
    "    return sorted(influence_scores, key=lambda x: x[1], reverse=True)\n"
   ]
  },
  {
   "cell_type": "code",
   "execution_count": null,
   "metadata": {
    "id": "3TW9nX9TC3jc"
   },
   "outputs": [],
   "source": [
    "# Compute influence scores\n",
    "loss_fn = torch.nn.MSELoss()\n",
    "influence_scores = compute_influence_scores(regression_model, tokenizer, ext_data, train_data_split, loss_fn)\n"
   ]
  },
  {
   "cell_type": "code",
   "execution_count": null,
   "metadata": {
    "colab": {
     "base_uri": "https://localhost:8080/",
     "height": 182
    },
    "id": "KX-N470K6jXj",
    "outputId": "9e5e0c5a-302c-4f1d-d109-039647e9c9b9"
   },
   "outputs": [
    {
     "ename": "NameError",
     "evalue": "name 'influence_scores' is not defined",
     "output_type": "error",
     "traceback": [
      "\u001b[0;31m---------------------------------------------------------------------------\u001b[0m",
      "\u001b[0;31mNameError\u001b[0m                                 Traceback (most recent call last)",
      "\u001b[0;32m<ipython-input-7-b0840dc3fc9e>\u001b[0m in \u001b[0;36m<cell line: 0>\u001b[0;34m()\u001b[0m\n\u001b[1;32m      3\u001b[0m \u001b[0;31m# # Select top-K influential samples\u001b[0m\u001b[0;34m\u001b[0m\u001b[0;34m\u001b[0m\u001b[0m\n\u001b[1;32m      4\u001b[0m \u001b[0mTOP_K\u001b[0m \u001b[0;34m=\u001b[0m \u001b[0;36m50\u001b[0m\u001b[0;34m\u001b[0m\u001b[0;34m\u001b[0m\u001b[0m\n\u001b[0;32m----> 5\u001b[0;31m \u001b[0mselected_samples\u001b[0m \u001b[0;34m=\u001b[0m \u001b[0minfluence_scores\u001b[0m\u001b[0;34m[\u001b[0m\u001b[0;34m:\u001b[0m\u001b[0mTOP_K\u001b[0m\u001b[0;34m]\u001b[0m\u001b[0;34m\u001b[0m\u001b[0;34m\u001b[0m\u001b[0m\n\u001b[0m",
      "\u001b[0;31mNameError\u001b[0m: name 'influence_scores' is not defined"
     ]
    }
   ],
   "source": [
    "# # Select top-K influential samples\n",
    "TOP_K = 128\n",
    "selected_samples = influence_scores[:TOP_K]"
   ]
  },
  {
   "cell_type": "markdown",
   "metadata": {
    "id": "gnX6AI-j1jOX"
   },
   "source": [
    "## Exporting the influence scores in a csv"
   ]
  },
  {
   "cell_type": "code",
   "execution_count": null,
   "metadata": {
    "colab": {
     "base_uri": "https://localhost:8080/",
     "height": 200
    },
    "id": "B5rTGjmZh_aW",
    "outputId": "a481fcec-583e-4885-daf8-35d4c0952408"
   },
   "outputs": [
    {
     "ename": "NameError",
     "evalue": "name 'influence_scores' is not defined",
     "output_type": "error",
     "traceback": [
      "\u001b[0;31m---------------------------------------------------------------------------\u001b[0m",
      "\u001b[0;31mNameError\u001b[0m                                 Traceback (most recent call last)",
      "\u001b[0;32m<ipython-input-8-3027518c3635>\u001b[0m in \u001b[0;36m<cell line: 0>\u001b[0;34m()\u001b[0m\n\u001b[1;32m      1\u001b[0m \u001b[0;31m# Assuming influence_scores is a list of tuples (SMILES, Label, Influence)\u001b[0m\u001b[0;34m\u001b[0m\u001b[0;34m\u001b[0m\u001b[0m\n\u001b[0;32m----> 2\u001b[0;31m \u001b[0minfluence_df\u001b[0m \u001b[0;34m=\u001b[0m \u001b[0mpd\u001b[0m\u001b[0;34m.\u001b[0m\u001b[0mDataFrame\u001b[0m\u001b[0;34m(\u001b[0m\u001b[0minfluence_scores\u001b[0m\u001b[0;34m,\u001b[0m \u001b[0mcolumns\u001b[0m\u001b[0;34m=\u001b[0m\u001b[0;34m[\u001b[0m\u001b[0;34m'SMILES'\u001b[0m\u001b[0;34m,\u001b[0m \u001b[0;34m'Label'\u001b[0m\u001b[0;34m,\u001b[0m \u001b[0;34m'Influence'\u001b[0m\u001b[0;34m]\u001b[0m\u001b[0;34m)\u001b[0m\u001b[0;34m\u001b[0m\u001b[0;34m\u001b[0m\u001b[0m\n\u001b[0m\u001b[1;32m      3\u001b[0m \u001b[0minfluence_df\u001b[0m\u001b[0;34m.\u001b[0m\u001b[0mto_csv\u001b[0m\u001b[0;34m(\u001b[0m\u001b[0;34m\"influence_scores.csv\"\u001b[0m\u001b[0;34m,\u001b[0m \u001b[0mindex\u001b[0m\u001b[0;34m=\u001b[0m\u001b[0;32mFalse\u001b[0m\u001b[0;34m)\u001b[0m\u001b[0;34m\u001b[0m\u001b[0;34m\u001b[0m\u001b[0m\n",
      "\u001b[0;31mNameError\u001b[0m: name 'influence_scores' is not defined"
     ]
    }
   ],
   "source": [
    "# Assuming influence_scores is a list of tuples (SMILES, Label, Influence)\n",
    "influence_df = pd.DataFrame(influence_scores, columns=['SMILES', 'Label', 'Influence'])\n",
    "influence_df.to_csv(\"influence_scores.csv\", index=False)"
   ]
  },
  {
   "cell_type": "markdown",
   "metadata": {
    "id": "7KPG0C9-24Eq"
   },
   "source": [
    "## Fine Tuning the model"
   ]
  },
  {
   "cell_type": "code",
   "execution_count": null,
   "metadata": {
    "colab": {
     "base_uri": "https://localhost:8080/"
    },
    "collapsed": true,
    "id": "EfnbCVaXGS0b",
    "jupyter": {
     "outputs_hidden": true
    },
    "outputId": "1876b3d6-8470-4f73-c9db-83a0e7203544"
   },
   "outputs": [
    {
     "name": "stderr",
     "output_type": "stream",
     "text": [
      "<ipython-input-12-f6a4a06246a0>:2: FutureWarning: You are using `torch.load` with `weights_only=False` (the current default value), which uses the default pickle module implicitly. It is possible to construct malicious pickle data which will execute arbitrary code during unpickling (See https://github.com/pytorch/pytorch/blob/main/SECURITY.md#untrusted-models for more details). In a future release, the default value for `weights_only` will be flipped to `True`. This limits the functions that could be executed during unpickling. Arbitrary objects will no longer be allowed to be loaded via this mode unless they are explicitly allowlisted by the user via `torch.serialization.add_safe_globals`. We recommend you start setting `weights_only=True` for any use case where you don't have full control of the loaded file. Please open an issue on GitHub for any issues related to this experimental feature.\n",
      "  finetuning_model.load_state_dict(torch.load(\"/content/drive/MyDrive/nnti/model_epoch_regression_finetune_5.pth\"), strict=False)\n"
     ]
    },
    {
     "data": {
      "text/plain": [
       "MoLFormerWithRegressionHead(\n",
       "  (model): MolformerModel(\n",
       "    (embeddings): MolformerEmbeddings(\n",
       "      (word_embeddings): Embedding(2362, 768, padding_idx=2)\n",
       "      (dropout): Dropout(p=0.2, inplace=False)\n",
       "    )\n",
       "    (encoder): MolformerEncoder(\n",
       "      (layer): ModuleList(\n",
       "        (0-11): 12 x MolformerLayer(\n",
       "          (attention): MolformerAttention(\n",
       "            (self): MolformerSelfAttention(\n",
       "              (query): Linear(in_features=768, out_features=768, bias=True)\n",
       "              (key): Linear(in_features=768, out_features=768, bias=True)\n",
       "              (value): Linear(in_features=768, out_features=768, bias=True)\n",
       "              (rotary_embeddings): MolformerRotaryEmbedding()\n",
       "              (feature_map): MolformerFeatureMap(\n",
       "                (kernel): ReLU()\n",
       "              )\n",
       "            )\n",
       "            (output): MolformerSelfOutput(\n",
       "              (dense): Linear(in_features=768, out_features=768, bias=True)\n",
       "              (LayerNorm): LayerNorm((768,), eps=1e-12, elementwise_affine=True)\n",
       "              (dropout): Dropout(p=0.1, inplace=False)\n",
       "            )\n",
       "          )\n",
       "          (intermediate): MolformerIntermediate(\n",
       "            (dense): Linear(in_features=768, out_features=768, bias=True)\n",
       "            (intermediate_act_fn): GELUActivation()\n",
       "          )\n",
       "          (output): MolformerOutput(\n",
       "            (dense): Linear(in_features=768, out_features=768, bias=True)\n",
       "            (LayerNorm): LayerNorm((768,), eps=1e-12, elementwise_affine=True)\n",
       "            (dropout): Dropout(p=0.1, inplace=False)\n",
       "          )\n",
       "        )\n",
       "      )\n",
       "    )\n",
       "    (LayerNorm): LayerNorm((768,), eps=1e-12, elementwise_affine=True)\n",
       "  )\n",
       "  (dropout): Dropout(p=0.2, inplace=False)\n",
       "  (regression_head): Linear(in_features=768, out_features=1, bias=True)\n",
       ")"
      ]
     },
     "execution_count": 12,
     "metadata": {},
     "output_type": "execute_result"
    }
   ],
   "source": [
    "finetuning_model = MoLFormerWithRegressionHead(model).to(device)\n",
    "finetuning_model.load_state_dict(torch.load(\"/content/drive/MyDrive/nnti/model_epoch_regression_finetune_5.pth\"), strict=False)\n",
    "\n",
    "finetuning_model"
   ]
  },
  {
   "cell_type": "markdown",
   "metadata": {
    "id": "sVTxtqUe3P_f"
   },
   "source": [
    "**while running whole notebook uncomment this and comment the next block**"
   ]
  },
  {
   "cell_type": "code",
   "execution_count": null,
   "metadata": {
    "id": "7fyeWWVH1VJ6"
   },
   "outputs": [],
   "source": [
    "# Sort the DataFrame by the 'Influence' column in descending order / while running whole notebook uncomment this\n",
    "# sorted_df = influence_df.sort_values(by=['Influence'], ascending=False)\n",
    "# df = sorted_df"
   ]
  },
  {
   "cell_type": "markdown",
   "metadata": {
    "id": "-_pU6BlC3VMT"
   },
   "source": [
    "**while using the influence_scores.csv file use this block and comment the previous block**\n",
    "\n",
    "\n"
   ]
  },
  {
   "cell_type": "code",
   "execution_count": null,
   "metadata": {
    "id": "QJGlTUnU3NBd"
   },
   "outputs": [],
   "source": [
    "# Use the influence scores csv and sort them\n",
    "with open(\"influence_scores (1).csv\", mode=\"r\", encoding=\"utf-8\") as file:\n",
    "    reader = csv.DictReader(file)\n",
    "    data = list(reader)\n",
    "\n",
    "# Sort the data by the third column in descending order\n",
    "third_column_name = list(data[0].keys())[2]  # influence score\n",
    "sorted_data = sorted(data, key=lambda x: float(x[third_column_name]), reverse=True)\n",
    "\n",
    "df = pd.DataFrame(sorted_data)"
   ]
  },
  {
   "cell_type": "code",
   "execution_count": null,
   "metadata": {
    "colab": {
     "base_uri": "https://localhost:8080/"
    },
    "id": "CATHg0Q-z5s0",
    "outputId": "a92aaddc-b02e-4e73-85ae-42eabed76111"
   },
   "outputs": [
    {
     "name": "stdout",
     "output_type": "stream",
     "text": [
      "Dataset({\n",
      "    features: ['SMILES', 'Label'],\n",
      "    num_rows: 128\n",
      "})\n"
     ]
    }
   ],
   "source": [
    "# Create a Hugging Face Dataset from the top 64 values\n",
    "selected_dataset = Dataset.from_pandas(df[['SMILES', 'Label']].head(128))\n",
    "\n",
    "print(selected_dataset)\n",
    "labels_list = [float(label) for label in selected_dataset['Label']]\n",
    "\n",
    "# Tokenize the dataset\n",
    "tokenized_selected_dataset = [\n",
    "    tokenize_smiles(smiles, label) for smiles, label in zip(selected_dataset['SMILES'], labels_list)\n",
    "]\n",
    "\n",
    "data_collator = DataCollatorForLanguageModeling(\n",
    "    tokenizer=tokenizer,\n",
    "    mlm=False,\n",
    "    mlm_probability=0.15\n",
    ")\n",
    "\n",
    "# Create PyTorch dataloaders\n",
    "train_dataloader = DataLoader(tokenized_selected_dataset, batch_size=16, shuffle = True, collate_fn = data_collator)"
   ]
  },
  {
   "cell_type": "markdown",
   "metadata": {
    "id": "nkFJcziq3-8t"
   },
   "source": [
    "\n",
    "\n",
    "### Part 2\n",
    "\n"
   ]
  },
  {
   "cell_type": "markdown",
   "metadata": {
    "id": "G1QMBXpZ3tvy"
   },
   "source": [
    "**Fine-tuning**"
   ]
  },
  {
   "cell_type": "code",
   "execution_count": null,
   "metadata": {
    "colab": {
     "base_uri": "https://localhost:8080/",
     "height": 557
    },
    "id": "6MmZyhMTSBkC",
    "outputId": "b4d289be-3810-4263-cd06-cc6b3a6535a6"
   },
   "outputs": [
    {
     "name": "stderr",
     "output_type": "stream",
     "text": [
      "Epoch 1: 100%|██████████| 8/8 [00:01<00:00,  4.80it/s]\n",
      "Epoch 2: 100%|██████████| 8/8 [00:00<00:00, 10.51it/s]\n",
      "Epoch 3: 100%|██████████| 8/8 [00:00<00:00, 10.54it/s]\n",
      "Epoch 4: 100%|██████████| 8/8 [00:01<00:00,  7.62it/s]\n",
      "Epoch 5: 100%|██████████| 8/8 [00:01<00:00,  7.67it/s]\n"
     ]
    },
    {
     "data": {
      "image/png": "[encoded data removed]",
      "text/plain": [
       "<Figure size 640x480 with 1 Axes>"
      ]
     },
     "metadata": {},
     "output_type": "display_data"
    }
   ],
   "source": [
    "def t_finetune(model, epochs, tokenizer, train_data_loader):\n",
    "  mlm_model = model\n",
    "  loss_fn = torch.nn.MSELoss()\n",
    "\n",
    "  optimizer = torch.optim.AdamW(mlm_model.parameters(), lr=1e-4)\n",
    "  # SAVE_PATH = \"/content/model_checkpoints/finetuning_task2\"\n",
    "  # os.makedirs(SAVE_PATH, exist_ok=True)\n",
    "\n",
    "  epochs_names = []\n",
    "  epochs_lossses = []\n",
    "\n",
    "\n",
    "  mlm_model.train()\n",
    "  for epoch in range(epochs):\n",
    "      total_loss = 0\n",
    "      for batch in tqdm(train_data_loader, desc=f\"Epoch {epoch+1}\"):\n",
    "            input_ids, attention_mask, target = batch['input_ids'].to(device), batch['attention_mask'].to(device), batch['target'].to(device)\n",
    "\n",
    "            optimizer.zero_grad()\n",
    "            outputs = mlm_model(input_ids, attention_mask)\n",
    "            loss = loss_fn(outputs.squeeze(1), target)\n",
    "            loss.backward()\n",
    "            optimizer.step()\n",
    "            total_loss += loss.item()\n",
    "\n",
    "\n",
    "      epochs_lossses.append(total_loss / len(train_data_loader))\n",
    "      epochs_names.append(f'Epoch {epoch+1}')\n",
    "\n",
    "\n",
    "  plt.plot(epochs_names, epochs_lossses, label=\"Train Loss\", color='red', marker='o')\n",
    "  plt.xlabel('Epoch')\n",
    "  plt.ylabel('Loss')\n",
    "  plt.title('Unsupervised Finetuning - Loss vs Epoch')\n",
    "  plt.show()\n",
    "\n",
    "  return mlm_model\n",
    "\n",
    "epochs = 5\n",
    "fine_tuned_model = t_finetune(finetuning_model, epochs, tokenizer, train_dataloader)"
   ]
  },
  {
   "cell_type": "code",
   "execution_count": null,
   "metadata": {
    "id": "E3FdjFNwi06C"
   },
   "outputs": [],
   "source": [
    "def evaluate_model(test_data_loader, model):\n",
    "  mlm_model = model\n",
    "  mlm_model.eval()\n",
    "  loss_fn = torch.nn.MSELoss()\n",
    "  optimizer = torch.optim.AdamW(mlm_model.parameters(), lr=1e-4)\n",
    "  mse_loss = torch.nn.MSELoss()\n",
    "  total_loss = 0\n",
    "  targets_values = []\n",
    "  predictions_values = []\n",
    "\n",
    "\n",
    "\n",
    "  with torch.no_grad():\n",
    "\n",
    "        for batch in tqdm(test_data_loader):\n",
    "            input_ids, attention_mask, target = batch['input_ids'].to(device), batch['attention_mask'].to(device), batch['target'].to(device)\n",
    "\n",
    "            outputs = mlm_model(input_ids.unsqueeze(0), attention_mask.unsqueeze(0))\n",
    "            loss = mse_loss(outputs.squeeze(1), target.unsqueeze(0))\n",
    "\n",
    "            predictions_values.extend(outputs.cpu().detach().numpy().flatten())\n",
    "            targets_values.extend(target.cpu().numpy().flatten())\n",
    "            total_loss += loss.item()\n",
    "\n",
    "\n",
    "  print(f\"\\nLoss : {total_loss / len(test_data_loader)}\")\n",
    "  print(f\"R2 : {r2_score(targets_values, predictions_values)}\")"
   ]
  },
  {
   "cell_type": "code",
   "execution_count": null,
   "metadata": {
    "colab": {
     "base_uri": "https://localhost:8080/"
    },
    "id": "uwaruiBtjMMf",
    "outputId": "06ee1ce9-410f-4606-8dae-b2fbc6fbeb49"
   },
   "outputs": [
    {
     "name": "stderr",
     "output_type": "stream",
     "text": [
      "100%|██████████| 840/840 [00:14<00:00, 57.25it/s]"
     ]
    },
    {
     "name": "stdout",
     "output_type": "stream",
     "text": [
      "\n",
      "Loss : 1.4620978176381727\n",
      "R2 : 0.0104073977393776\n"
     ]
    },
    {
     "name": "stderr",
     "output_type": "stream",
     "text": [
      "\n"
     ]
    }
   ],
   "source": [
    "evaluate_model(test_data_split, finetuning_model)"
   ]
  }
 ],
 "metadata": {
  "accelerator": "GPU",
  "colab": {
   "collapsed_sections": [
    "-q4cGwBf5IqP",
    "MyXS0uCc5Cja",
    "QHZwNlEs4frX",
    "gnX6AI-j1jOX"
   ],
   "gpuType": "T4",
   "provenance": []
  },
  "kernelspec": {
   "display_name": "Python 3 (ipykernel)",
   "language": "python",
   "name": "python3"
  },
  "language_info": {
   "codemirror_mode": {
    "name": "ipython",
    "version": 3
   },
   "file_extension": ".py",
   "mimetype": "text/x-python",
   "name": "python",
   "nbconvert_exporter": "python",
   "pygments_lexer": "ipython3",
   "version": "3.13.2"
  }
 },
 "nbformat": 4,
 "nbformat_minor": 4
}
